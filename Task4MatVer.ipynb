{
 "cells": [
  {
   "cell_type": "code",
   "execution_count": 1,
   "id": "3beb29c8",
   "metadata": {},
   "outputs": [],
   "source": [
    "import pandas as pd\n",
    "import numpy as np\n",
    "from matplotlib import pyplot as plt"
   ]
  },
  {
   "attachments": {},
   "cell_type": "markdown",
   "id": "17331350",
   "metadata": {},
   "source": [
    "## Задание 2"
   ]
  },
  {
   "cell_type": "markdown",
   "id": "c4ee1d78",
   "metadata": {},
   "source": [
    "О непрерывной равномерно распределенной случайной величине B известно, что ее\n",
    "дисперсия равна 0.2. Можно ли найти правую границу величины B и ее среднее\n",
    "значение зная, что левая граница равна 0.5? Если да, найдите ее."
   ]
  },
  {
   "cell_type": "markdown",
   "id": "51215960",
   "metadata": {},
   "source": [
    "Решение:\n",
    " Дисперсия ровна $$D(X)= \\frac{{(a + b)}^2}{12} = 0.2$$, где $a=0.5$,\n",
    " из этой формулы выразим $b$, \n",
    " $$0.2 = \\frac{{(0.5 + b)}^2}{12}$$\n",
    " "
   ]
  },
  {
   "cell_type": "code",
   "execution_count": 2,
   "id": "d46ee685",
   "metadata": {},
   "outputs": [
    {
     "name": "stdout",
     "output_type": "stream",
     "text": [
      "Правая граница равна 2.049193338482967\n"
     ]
    }
   ],
   "source": [
    "a = 0.5\n",
    "c = np.sqrt(2.4)#т.к мы ищем правую границу, то b может быть только положительной величиной!\n",
    "b = c + a\n",
    "print(f'Правая граница равна {b}')"
   ]
  },
  {
   "cell_type": "markdown",
   "id": "dcaeaf13",
   "metadata": {},
   "source": [
    "Теперь найдём среднее значение по формуле:$$M(X) = \\frac{a + b}{2}$$"
   ]
  },
  {
   "cell_type": "code",
   "execution_count": 3,
   "id": "6ac6623c",
   "metadata": {},
   "outputs": [
    {
     "data": {
      "text/plain": [
       "1.2745966692414834"
      ]
     },
     "execution_count": 3,
     "metadata": {},
     "output_type": "execute_result"
    }
   ],
   "source": [
    "M = (a +b)/2\n",
    "M"
   ]
  },
  {
   "attachments": {},
   "cell_type": "markdown",
   "id": "bc902f12",
   "metadata": {},
   "source": [
    "## Задание 4"
   ]
  },
  {
   "cell_type": "markdown",
   "id": "1fefb158",
   "metadata": {},
   "source": [
    "Рост взрослого населения города X имеет нормальное распределение, причем,\n",
    "средний рост равен 174 см, а среднее ĸвадратичесĸое отĸлонение равно 8 см. Без\n",
    "использования сторонних библиотеĸ ( numpy , scipy , pandas и пр.) посчитайте,\n",
    "ĸаĸова вероятность того, что случайным образом выбранный взрослый человеĸ имеет\n",
    "рост:\n",
    "1. больше 182 см?\n",
    "2. больше 190 см?\n",
    "3. от 166 см до 190 см?\n",
    "4. от 166 см до 182 см?\n",
    "5. от 158 см до 190 см?\n",
    "6. не выше 150 см и не ниже 190 см?\n",
    "7. не выше 150 см и не ниже 198 см?\n",
    "8. ниже 166 см?"
   ]
  },
  {
   "cell_type": "markdown",
   "id": "a71d5391",
   "metadata": {},
   "source": [
    "Решение:\n",
    "Используем\n",
    "формулу для нахождения вероятности попадания нормальной случайной величины в\n",
    "интервал:\n",
    "$$P(\\alpha<X<\\beta) = \\Phi\\left(\\frac{\\beta- a}{\\sigma}\\right) - \\Phi\\left(\\frac{\\alpha-a}{\\sigma}\\right)$$\n",
    "где $\\Phi(x)$ - функция Лапласа( значения берутся из таблицы)."
   ]
  },
  {
   "cell_type": "markdown",
   "id": "e4007a40",
   "metadata": {},
   "source": [
    "1. $$P(182<X<\\infty) = 1-\\Phi\\left(\\frac{182 - 174}{8}\\right)$$\n",
    "$$P(X=\\infty)= 1,  P(182<X<\\infty)= 1- \\Phi(1),  P(182<X<\\infty) = 1-0.3413,  P(182<X<\\infty)=0.6587$$"
   ]
  },
  {
   "cell_type": "markdown",
   "id": "7f45af66",
   "metadata": {},
   "source": [
    "2.  $$P(190<X<\\infty) = 1-\\Phi\\left(\\frac{190 - 174}{8}\\right)$$\n",
    "$$P(X=\\infty)= 1,  P(190<X<\\infty)= 1- \\Phi(2),  P(190<X<\\infty) = 1-0.4772,  P(182<X<\\infty)=0.5228$$"
   ]
  },
  {
   "cell_type": "markdown",
   "id": "1e6f90cc",
   "metadata": {},
   "source": [
    "3.  $$P(166<X<190) = \\Phi\\left(\\frac{190-174}{8}\\right) - \\Phi\\left(\\frac{166-174}{8}\\right)$$\n",
    "$$P(166<X<190) = \\Phi(2) + \\Phi(1),P(166<X<190)=0.4772 + 0.3413 = 0.8185$$"
   ]
  },
  {
   "cell_type": "markdown",
   "id": "c827864b",
   "metadata": {},
   "source": [
    "4.  $$P(166<X<182) = \\Phi\\left(\\frac{182-174}{8}\\right) - \\Phi\\left(\\frac{166-174}{8}\\right)$$\n",
    " $$P(166<X<182) = \\Phi(1) + \\Phi(1),P(166<X<190)=0.3413 + 0.3413 = 0.6826$$"
   ]
  },
  {
   "cell_type": "markdown",
   "id": "da9a9413",
   "metadata": {},
   "source": [
    "5.  $$P(158<X<190) = \\Phi\\left(\\frac{190-174}{8}\\right) - \\Phi\\left(\\frac{158-174}{8}\\right)$$\n",
    " $$P(158<X<190) = \\Phi(2) + \\Phi(2),P(158<X<190)=0.4772 + 0.4772 = 0.9544$$"
   ]
  },
  {
   "cell_type": "markdown",
   "id": "901467fe",
   "metadata": {},
   "source": [
    "6. Найдём сначала $P(150<X<190)$ и отнимем полученную вероятность от 1.\n",
    " $$P(150<X<190) = \\Phi\\left(\\frac{190-174}{8}\\right) - \\Phi\\left(\\frac{150-174}{8}\\right)$$\n",
    " $$P(150<X<190) = \\Phi(2) + \\Phi(3),P(150<X<190)=0.4772 + 0.49865 = 0.97585$$\n",
    " $$1-0.97585  = 0.02415$$"
   ]
  },
  {
   "cell_type": "markdown",
   "id": "216ba70f",
   "metadata": {},
   "source": [
    "7. Найдём сначала $P(150<X<190)$ и отнимем полученную вероятность от 1.\n",
    " $$P(150<X<198) = \\Phi\\left(\\frac{198-174}{8}\\right) - \\Phi\\left(\\frac{150-174}{8}\\right)$$\n",
    " $$P(150<X<198) = \\Phi(3) + \\Phi(3),P(150<X<198)=0.49865 + 0.49865 = 0.9973$$\n",
    " $$1-0.9973  = 0.0027$$"
   ]
  },
  {
   "cell_type": "markdown",
   "id": "d9c23112",
   "metadata": {},
   "source": [
    " 8. $$P(-\\infty<X<166) = 0-\\Phi\\left(\\frac{166-174}{8}\\right)$$\n",
    " $$P(166<X<\\infty) = 0+\\Phi(1), P(166<X<\\infty) =0.3413$$"
   ]
  },
  {
   "attachments": {},
   "cell_type": "markdown",
   "id": "1c41ef3c",
   "metadata": {},
   "source": [
    "## Задание 5"
   ]
  },
  {
   "cell_type": "markdown",
   "id": "29917784",
   "metadata": {},
   "source": [
    "На сĸольĸо сигм (средних ĸвадратичесĸих отĸлонений) отĸлоняется рост человеĸа,\n",
    "равный 190 см, от математичесĸого ожидания роста в популяции, в ĸоторой M(X) =\n",
    "178 и D(X) = 25 ?"
   ]
  },
  {
   "cell_type": "markdown",
   "id": "7e9048f4",
   "metadata": {},
   "source": [
    "Решение:\n",
    "Т.к $$D(X) = {\\sigma}^2, {\\sigma} = 5$$\n",
    "\n",
    "\n"
   ]
  },
  {
   "cell_type": "markdown",
   "id": "a1b2fb32",
   "metadata": {},
   "source": [
    " $190 - 178 = 12$"
   ]
  },
  {
   "cell_type": "markdown",
   "id": "322aa3d7",
   "metadata": {},
   "source": [
    "Ответ: $\\frac{12}{5} = 2.2$"
   ]
  }
 ],
 "metadata": {
  "kernelspec": {
   "display_name": "Python 3",
   "language": "python",
   "name": "python3"
  },
  "language_info": {
   "codemirror_mode": {
    "name": "ipython",
    "version": 3
   },
   "file_extension": ".py",
   "mimetype": "text/x-python",
   "name": "python",
   "nbconvert_exporter": "python",
   "pygments_lexer": "ipython3",
   "version": "3.8.8"
  }
 },
 "nbformat": 4,
 "nbformat_minor": 5
}
